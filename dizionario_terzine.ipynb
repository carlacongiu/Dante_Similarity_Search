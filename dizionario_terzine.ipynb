{
  "cells": [
    {
      "cell_type": "code",
      "execution_count": 2,
      "metadata": {
        "colab": {
          "base_uri": "https://localhost:8080/"
        },
        "id": "oe5944b4weYA",
        "outputId": "61548459-8ce2-4615-b4ea-0052d83930b5"
      },
      "outputs": [
        {
          "output_type": "stream",
          "name": "stdout",
          "text": [
            "Requirement already satisfied: lxml in /usr/local/lib/python3.10/dist-packages (5.3.0)\n",
            "Requirement already satisfied: spacy in /usr/local/lib/python3.10/dist-packages (3.7.5)\n",
            "Requirement already satisfied: spacy-legacy<3.1.0,>=3.0.11 in /usr/local/lib/python3.10/dist-packages (from spacy) (3.0.12)\n",
            "Requirement already satisfied: spacy-loggers<2.0.0,>=1.0.0 in /usr/local/lib/python3.10/dist-packages (from spacy) (1.0.5)\n",
            "Requirement already satisfied: murmurhash<1.1.0,>=0.28.0 in /usr/local/lib/python3.10/dist-packages (from spacy) (1.0.11)\n",
            "Requirement already satisfied: cymem<2.1.0,>=2.0.2 in /usr/local/lib/python3.10/dist-packages (from spacy) (2.0.10)\n",
            "Requirement already satisfied: preshed<3.1.0,>=3.0.2 in /usr/local/lib/python3.10/dist-packages (from spacy) (3.0.9)\n",
            "Requirement already satisfied: thinc<8.3.0,>=8.2.2 in /usr/local/lib/python3.10/dist-packages (from spacy) (8.2.5)\n",
            "Requirement already satisfied: wasabi<1.2.0,>=0.9.1 in /usr/local/lib/python3.10/dist-packages (from spacy) (1.1.3)\n",
            "Requirement already satisfied: srsly<3.0.0,>=2.4.3 in /usr/local/lib/python3.10/dist-packages (from spacy) (2.5.0)\n",
            "Requirement already satisfied: catalogue<2.1.0,>=2.0.6 in /usr/local/lib/python3.10/dist-packages (from spacy) (2.0.10)\n",
            "Requirement already satisfied: weasel<0.5.0,>=0.1.0 in /usr/local/lib/python3.10/dist-packages (from spacy) (0.4.1)\n",
            "Requirement already satisfied: typer<1.0.0,>=0.3.0 in /usr/local/lib/python3.10/dist-packages (from spacy) (0.15.1)\n",
            "Requirement already satisfied: tqdm<5.0.0,>=4.38.0 in /usr/local/lib/python3.10/dist-packages (from spacy) (4.67.1)\n",
            "Requirement already satisfied: requests<3.0.0,>=2.13.0 in /usr/local/lib/python3.10/dist-packages (from spacy) (2.32.3)\n",
            "Requirement already satisfied: pydantic!=1.8,!=1.8.1,<3.0.0,>=1.7.4 in /usr/local/lib/python3.10/dist-packages (from spacy) (2.10.4)\n",
            "Requirement already satisfied: jinja2 in /usr/local/lib/python3.10/dist-packages (from spacy) (3.1.5)\n",
            "Requirement already satisfied: setuptools in /usr/local/lib/python3.10/dist-packages (from spacy) (75.1.0)\n",
            "Requirement already satisfied: packaging>=20.0 in /usr/local/lib/python3.10/dist-packages (from spacy) (24.2)\n",
            "Requirement already satisfied: langcodes<4.0.0,>=3.2.0 in /usr/local/lib/python3.10/dist-packages (from spacy) (3.5.0)\n",
            "Requirement already satisfied: numpy>=1.19.0 in /usr/local/lib/python3.10/dist-packages (from spacy) (1.26.4)\n",
            "Requirement already satisfied: language-data>=1.2 in /usr/local/lib/python3.10/dist-packages (from langcodes<4.0.0,>=3.2.0->spacy) (1.3.0)\n",
            "Requirement already satisfied: annotated-types>=0.6.0 in /usr/local/lib/python3.10/dist-packages (from pydantic!=1.8,!=1.8.1,<3.0.0,>=1.7.4->spacy) (0.7.0)\n",
            "Requirement already satisfied: pydantic-core==2.27.2 in /usr/local/lib/python3.10/dist-packages (from pydantic!=1.8,!=1.8.1,<3.0.0,>=1.7.4->spacy) (2.27.2)\n",
            "Requirement already satisfied: typing-extensions>=4.12.2 in /usr/local/lib/python3.10/dist-packages (from pydantic!=1.8,!=1.8.1,<3.0.0,>=1.7.4->spacy) (4.12.2)\n",
            "Requirement already satisfied: charset-normalizer<4,>=2 in /usr/local/lib/python3.10/dist-packages (from requests<3.0.0,>=2.13.0->spacy) (3.4.1)\n",
            "Requirement already satisfied: idna<4,>=2.5 in /usr/local/lib/python3.10/dist-packages (from requests<3.0.0,>=2.13.0->spacy) (3.10)\n",
            "Requirement already satisfied: urllib3<3,>=1.21.1 in /usr/local/lib/python3.10/dist-packages (from requests<3.0.0,>=2.13.0->spacy) (2.3.0)\n",
            "Requirement already satisfied: certifi>=2017.4.17 in /usr/local/lib/python3.10/dist-packages (from requests<3.0.0,>=2.13.0->spacy) (2024.12.14)\n",
            "Requirement already satisfied: blis<0.8.0,>=0.7.8 in /usr/local/lib/python3.10/dist-packages (from thinc<8.3.0,>=8.2.2->spacy) (0.7.11)\n",
            "Requirement already satisfied: confection<1.0.0,>=0.0.1 in /usr/local/lib/python3.10/dist-packages (from thinc<8.3.0,>=8.2.2->spacy) (0.1.5)\n",
            "Requirement already satisfied: click>=8.0.0 in /usr/local/lib/python3.10/dist-packages (from typer<1.0.0,>=0.3.0->spacy) (8.1.8)\n",
            "Requirement already satisfied: shellingham>=1.3.0 in /usr/local/lib/python3.10/dist-packages (from typer<1.0.0,>=0.3.0->spacy) (1.5.4)\n",
            "Requirement already satisfied: rich>=10.11.0 in /usr/local/lib/python3.10/dist-packages (from typer<1.0.0,>=0.3.0->spacy) (13.9.4)\n",
            "Requirement already satisfied: cloudpathlib<1.0.0,>=0.7.0 in /usr/local/lib/python3.10/dist-packages (from weasel<0.5.0,>=0.1.0->spacy) (0.20.0)\n",
            "Requirement already satisfied: smart-open<8.0.0,>=5.2.1 in /usr/local/lib/python3.10/dist-packages (from weasel<0.5.0,>=0.1.0->spacy) (7.1.0)\n",
            "Requirement already satisfied: MarkupSafe>=2.0 in /usr/local/lib/python3.10/dist-packages (from jinja2->spacy) (3.0.2)\n",
            "Requirement already satisfied: marisa-trie>=1.1.0 in /usr/local/lib/python3.10/dist-packages (from language-data>=1.2->langcodes<4.0.0,>=3.2.0->spacy) (1.2.1)\n",
            "Requirement already satisfied: markdown-it-py>=2.2.0 in /usr/local/lib/python3.10/dist-packages (from rich>=10.11.0->typer<1.0.0,>=0.3.0->spacy) (3.0.0)\n",
            "Requirement already satisfied: pygments<3.0.0,>=2.13.0 in /usr/local/lib/python3.10/dist-packages (from rich>=10.11.0->typer<1.0.0,>=0.3.0->spacy) (2.18.0)\n",
            "Requirement already satisfied: wrapt in /usr/local/lib/python3.10/dist-packages (from smart-open<8.0.0,>=5.2.1->weasel<0.5.0,>=0.1.0->spacy) (1.17.0)\n",
            "Requirement already satisfied: mdurl~=0.1 in /usr/local/lib/python3.10/dist-packages (from markdown-it-py>=2.2.0->rich>=10.11.0->typer<1.0.0,>=0.3.0->spacy) (0.1.2)\n"
          ]
        }
      ],
      "source": [
        "!pip install lxml\n",
        "!pip install spacy"
      ]
    },
    {
      "cell_type": "code",
      "execution_count": 3,
      "metadata": {
        "id": "MMWxEwy0Xcep"
      },
      "outputs": [],
      "source": [
        "from lxml import etree\n",
        "import spacy\n",
        "import pandas as pd"
      ]
    },
    {
      "cell_type": "code",
      "execution_count": 4,
      "metadata": {
        "colab": {
          "base_uri": "https://localhost:8080/"
        },
        "id": "H60UrM245e3A",
        "outputId": "73987703-0b95-4380-d8a5-64cd9ccd17c2"
      },
      "outputs": [
        {
          "output_type": "stream",
          "name": "stdout",
          "text": [
            "Mounted at /content/drive\n"
          ]
        }
      ],
      "source": [
        "from google.colab import drive\n",
        "drive.mount('/content/drive')"
      ]
    },
    {
      "cell_type": "code",
      "execution_count": 5,
      "metadata": {
        "id": "O_A8UcYA5uLk"
      },
      "outputs": [],
      "source": [
        "file_path = '/content/drive/MyDrive/Colab_Notebooks/Commedia_Petrocchi_XML_TEI.xml'"
      ]
    },
    {
      "cell_type": "code",
      "execution_count": 6,
      "metadata": {
        "id": "PAm1o6Ih5WY_"
      },
      "outputs": [],
      "source": [
        "parser = etree.XMLParser(recover=True)\n",
        "xml_data = etree.parse(file_path, parser)"
      ]
    },
    {
      "cell_type": "code",
      "execution_count": 7,
      "metadata": {
        "id": "Oe3qViSL6ARr"
      },
      "outputs": [],
      "source": [
        "cantica = xml_data.xpath('//div1/@id')[0]\n",
        "tot_canti = xml_data.xpath('//div1[@id=\"Inferno\"]//div2')"
      ]
    },
    {
      "cell_type": "code",
      "source": [
        "cantiche = xml_data.xpath('//div1')  # Estrae tutte le cantiche\n",
        "canti = {}\n",
        "\n",
        "# Itera su ogni cantica\n",
        "for cantica_element in cantiche:\n",
        "    cantica = cantica_element.xpath('./@id')[0]  # Estrae il nome della cantica (es. \"Inferno\", \"Purgatorio\", \"Paradiso\")\n",
        "    tot_canti = cantica_element.xpath('./div2')  # Estrae tutti i canti per la cantica corrente\n",
        "\n",
        "    # Processa i canti e crea un dizionario con le terzine come stringhe\n",
        "    for c in tot_canti:\n",
        "        h_canto = c.xpath('.//head//text()')  # Estrae il titolo del canto\n",
        "        terzine = []\n",
        "\n",
        "        for lg in c.xpath('.//lg'):\n",
        "            # Ogni verso viene unito in una stringa con uno spazio come separatore\n",
        "            terzina = [l.text.strip() for l in lg.xpath('./l') if l.text.strip()]\n",
        "            terzine.append(terzina)\n",
        "\n",
        "        # Aggiunge il canto alla struttura canti\n",
        "        canti[(cantica, h_canto[0])] = terzine\n",
        "\n",
        "# Genera il risultato finale\n",
        "data = []\n",
        "for (cantica, titolo), ter in canti.items():\n",
        "    i = 1\n",
        "    for t in ter:\n",
        "        # Controlla il numero di versi nella terzina\n",
        "        if len(t) == 3:  # Se è una terzina\n",
        "            range_versi = f\"{i}-{i+2}\"  # Costruisce il range per una terzina\n",
        "            frase = \" \".join(t)  # Combina i versi in una stringa unica\n",
        "            data.append([cantica, titolo, range_versi, frase])\n",
        "            i += 3\n",
        "        else:  # Se è un singolo verso o gruppo di versi non standard\n",
        "            for verso in t:\n",
        "                range_versi = f\"{i}\"  # Singolo verso\n",
        "                data.append([cantica, titolo, range_versi, verso])\n",
        "                i += 1\n",
        "\n",
        "\n",
        "df = pd.DataFrame(data, columns=['cantica', 'canto', 'range_versi', 'terzina'])\n",
        "df['range_versi'] = \"\\u200B\" + df['range_versi'].astype(str)\n",
        "df.to_csv(\"terzine.csv\", index=False, sep=';', encoding='utf-8-sig')\n",
        "print(df)"
      ],
      "metadata": {
        "colab": {
          "base_uri": "https://localhost:8080/"
        },
        "id": "-BEXVGN3e12L",
        "outputId": "31e1ad55-eaea-4579-de61-88eaf27b632c"
      },
      "execution_count": 8,
      "outputs": [
        {
          "output_type": "stream",
          "name": "stdout",
          "text": [
            "       cantica   canto range_versi  \\\n",
            "0      Inferno       I        ​1-3   \n",
            "1      Inferno       I        ​4-6   \n",
            "2      Inferno       I        ​7-9   \n",
            "3      Inferno       I      ​10-12   \n",
            "4      Inferno       I      ​13-15   \n",
            "...        ...     ...         ...   \n",
            "4829  Paradiso  XXXIII    ​133-135   \n",
            "4830  Paradiso  XXXIII    ​136-138   \n",
            "4831  Paradiso  XXXIII    ​139-141   \n",
            "4832  Paradiso  XXXIII    ​142-144   \n",
            "4833  Paradiso  XXXIII        ​145   \n",
            "\n",
            "                                                terzina  \n",
            "0     Nel mezzo del cammin di nostra vita mi ritrova...  \n",
            "1     Ahi quanto a dir qual era è cosa dura esta sel...  \n",
            "2     Tant'è amara che poco è più morte; ma per trat...  \n",
            "3     Io non so ben ridir com'i' v'intrai, tant'era ...  \n",
            "4     Ma poi ch'i' fui al piè d'un colle giunto, là ...  \n",
            "...                                                 ...  \n",
            "4829  Qual è 'l geomètra che tutto s'affige per misu...  \n",
            "4830  tal era io a quella vista nova: veder voleva c...  \n",
            "4831  ma non eran da ciò le proprie penne: se non ch...  \n",
            "4832  A l'alta fantasia qui mancò possa; ma già volg...  \n",
            "4833          l'amor che move il sole e l'altre stelle.  \n",
            "\n",
            "[4834 rows x 4 columns]\n"
          ]
        }
      ]
    }
  ],
  "metadata": {
    "colab": {
      "provenance": []
    },
    "kernelspec": {
      "display_name": "Python 3",
      "name": "python3"
    },
    "language_info": {
      "name": "python"
    }
  },
  "nbformat": 4,
  "nbformat_minor": 0
}